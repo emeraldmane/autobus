{
 "cells": [
  {
   "cell_type": "code",
   "execution_count": 5,
   "metadata": {},
   "outputs": [],
   "source": [
    "import time\n",
    "from jetbot import Robot\n",
    "robot = Robot()"
   ]
  },
  {
   "cell_type": "code",
   "execution_count": 43,
   "metadata": {},
   "outputs": [],
   "source": [
    "def initial_throttle(car, init_throttle=0.6, rest_throttle=0.3, decay_time=1.0, steps=10):\n",
    "    #global robot.left_motor.value, robot.right_motor.value \n",
    "    \"\"\"car: instance of car object\"\"\"\n",
    "    diff = (init_throttle - rest_throttle) / steps\n",
    "    wait_frame = decay_time / steps\n",
    "    \n",
    "    car.throttle = init_throttle\n",
    "    for i in range(steps):\n",
    "        car.throttle -= diff\n",
    "        time.sleep(wait_frame)\n",
    "        \n",
    "    car.throttle = rest_throttle\n",
    "    \n",
    "    robot.left_motor.value = car.throttle \n",
    "    robot.right_motor.value = car.throttle \n",
    "    \n",
    "initial_throttle(robot)\n",
    "tt = time.time()\n",
    "while time.time() < tt + 3:\n",
    "    pass\n",
    "robot.stop()"
   ]
  },
  {
   "cell_type": "code",
   "execution_count": 45,
   "metadata": {},
   "outputs": [],
   "source": [
    "def initial_throttle(init_throttle=0.6, rest_throttle=0.3, decay_time=1.0, steps=10):\n",
    "    diff = (init_throttle - rest_throttle) / steps\n",
    "    wait_frame = decay_time / steps\n",
    "    \n",
    "    throttle = init_throttle\n",
    "    for i in range(steps):\n",
    "        throttle -= diff\n",
    "        time.sleep(wait_frame)\n",
    "        \n",
    "    throttle = rest_throttle\n",
    "    \n",
    "    robot.left_motor.value = throttle \n",
    "    robot.right_motor.value = throttle \n",
    "    \n",
    "initial_throttle()\n",
    "tt = time.time()\n",
    "while time.time() < tt + 3:\n",
    "    pass\n",
    "robot.stop()"
   ]
  },
  {
   "cell_type": "code",
   "execution_count": null,
   "metadata": {},
   "outputs": [],
   "source": []
  },
  {
   "cell_type": "code",
   "execution_count": 10,
   "metadata": {},
   "outputs": [],
   "source": [
    "robot.stop()"
   ]
  },
  {
   "cell_type": "code",
   "execution_count": null,
   "metadata": {},
   "outputs": [],
   "source": [
    "robot.stop()"
   ]
  },
  {
   "cell_type": "code",
   "execution_count": null,
   "metadata": {},
   "outputs": [],
   "source": [
    "tt.cancel()"
   ]
  },
  {
   "cell_type": "code",
   "execution_count": null,
   "metadata": {},
   "outputs": [],
   "source": [
    "robot.stop()"
   ]
  },
  {
   "cell_type": "code",
   "execution_count": null,
   "metadata": {},
   "outputs": [],
   "source": []
  }
 ],
 "metadata": {
  "kernelspec": {
   "display_name": "Python 3",
   "language": "python",
   "name": "python3"
  },
  "language_info": {
   "codemirror_mode": {
    "name": "ipython",
    "version": 3
   },
   "file_extension": ".py",
   "mimetype": "text/x-python",
   "name": "python",
   "nbconvert_exporter": "python",
   "pygments_lexer": "ipython3",
   "version": "3.6.9"
  }
 },
 "nbformat": 4,
 "nbformat_minor": 4
}
