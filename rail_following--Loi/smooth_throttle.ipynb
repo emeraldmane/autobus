{
 "cells": [
  {
   "cell_type": "code",
   "execution_count": 1,
   "metadata": {},
   "outputs": [],
   "source": [
    "import time\n",
    "from jetbot import Robot\n",
    "robot = Robot()"
   ]
  },
  {
   "cell_type": "code",
   "execution_count": 18,
   "metadata": {},
   "outputs": [
    {
     "name": "stdout",
     "output_type": "stream",
     "text": [
      "0.22 0.22\n",
      "0.24 0.24\n",
      "0.26 0.26\n",
      "0.28 0.28\n",
      "0.30000000000000004 0.30000000000000004\n",
      "0.29000000000000004 0.29000000000000004\n",
      "0.28 0.28\n",
      "0.27 0.27\n",
      "0.26 0.26\n",
      "0.25 0.25\n",
      "0.24 0.24\n",
      "0.22999999999999998 0.22999999999999998\n",
      "0.21999999999999997 0.21999999999999997\n",
      "0.20999999999999996 0.20999999999999996\n",
      "0.19999999999999996 0.19999999999999996\n",
      "0.21999999999999995 0.21999999999999995\n",
      "0.23999999999999994 0.23999999999999994\n",
      "0.25999999999999995 0.25999999999999995\n",
      "0.27999999999999997 0.27999999999999997\n",
      "0.3 0.3\n",
      "0.32 0.32\n",
      "0.31 0.31\n",
      "0.3 0.3\n",
      "0.29 0.29\n",
      "0.27999999999999997 0.27999999999999997\n",
      "0.26999999999999996 0.26999999999999996\n",
      "0.25999999999999995 0.25999999999999995\n",
      "0.24999999999999994 0.24999999999999994\n",
      "0.23999999999999994 0.23999999999999994\n",
      "0.22999999999999993 0.22999999999999993\n",
      "0.21999999999999992 0.21999999999999992\n",
      "0.2099999999999999 0.2099999999999999\n",
      "0.1999999999999999 0.1999999999999999\n",
      "0.2199999999999999 0.2199999999999999\n",
      "0.23999999999999988 0.23999999999999988\n",
      "0.2599999999999999 0.2599999999999999\n",
      "0.2799999999999999 0.2799999999999999\n",
      "0.29999999999999993 0.29999999999999993\n",
      "0.31999999999999995 0.31999999999999995\n",
      "0.30999999999999994 0.30999999999999994\n",
      "0.29999999999999993 0.29999999999999993\n",
      "0.2899999999999999 0.2899999999999999\n"
     ]
    }
   ],
   "source": [
    "import time\n",
    "import threading\n",
    "tt = threading.Timer(0.1, print,['tt'])\n",
    "accel = True\n",
    "mt = 1\n",
    "\n",
    "robot.left_motor.value = robot.right_motor.value = 0.2\n",
    "\n",
    "pp = time.time()+5\n",
    "while True:\n",
    "    if time.time()>pp:\n",
    "        break\n",
    "        \n",
    "    if accel:\n",
    "        robot.left_motor.value = (robot.left_motor.value + 0.02) *mt\n",
    "        robot.right_motor.value = (robot.right_motor.value + 0.02) *mt\n",
    "        if max(robot.left_motor.value,robot.right_motor.value) > 0.3: accel = False\n",
    "    else:\n",
    "        robot.left_motor.value = (robot.left_motor.value - 0.01) *mt\n",
    "        robot.right_motor.value = (robot.right_motor.value - 0.01) *mt\n",
    "        if min(robot.left_motor.value,robot.right_motor.value) < 0.2: accel = True\n",
    "            \n",
    "    time.sleep(0.1)\n",
    "        \n",
    "    print(robot.left_motor.value,robot.right_motor.value)\n",
    "    \n",
    "robot.stop()"
   ]
  },
  {
   "cell_type": "code",
   "execution_count": 43,
   "metadata": {},
   "outputs": [],
   "source": [
    "def initial_throttle(car, init_throttle=0.6, rest_throttle=0.3, decay_time=1.0, steps=10):\n",
    "    #global robot.left_motor.value, robot.right_motor.value \n",
    "    \"\"\"car: instance of car object\"\"\"\n",
    "    diff = (init_throttle - rest_throttle) / steps\n",
    "    wait_frame = decay_time / steps\n",
    "    \n",
    "    car.throttle = init_throttle\n",
    "    for i in range(steps):\n",
    "        car.throttle -= diff\n",
    "        time.sleep(wait_frame)\n",
    "        \n",
    "    car.throttle = rest_throttle\n",
    "    \n",
    "    robot.left_motor.value = car.throttle \n",
    "    robot.right_motor.value = car.throttle \n",
    "    \n",
    "initial_throttle(robot)\n",
    "tt = time.time()\n",
    "while time.time() < tt + 3:\n",
    "    pass\n",
    "robot.stop()"
   ]
  },
  {
   "cell_type": "code",
   "execution_count": 45,
   "metadata": {},
   "outputs": [],
   "source": [
    "def initial_throttle(init_throttle=0.6, rest_throttle=0.3, decay_time=1.0, steps=10):\n",
    "    diff = (init_throttle - rest_throttle) / steps\n",
    "    wait_frame = decay_time / steps\n",
    "    \n",
    "    throttle = init_throttle\n",
    "    for i in range(steps):\n",
    "        throttle -= diff\n",
    "        time.sleep(wait_frame)\n",
    "        \n",
    "    throttle = rest_throttle\n",
    "    \n",
    "    robot.left_motor.value = throttle \n",
    "    robot.right_motor.value = throttle \n",
    "    \n",
    "initial_throttle()\n",
    "tt = time.time()\n",
    "while time.time() < tt + 3:\n",
    "    pass\n",
    "robot.stop()"
   ]
  },
  {
   "cell_type": "code",
   "execution_count": null,
   "metadata": {},
   "outputs": [],
   "source": []
  },
  {
   "cell_type": "code",
   "execution_count": 10,
   "metadata": {},
   "outputs": [],
   "source": [
    "robot.stop()"
   ]
  },
  {
   "cell_type": "code",
   "execution_count": null,
   "metadata": {},
   "outputs": [],
   "source": [
    "robot.stop()"
   ]
  },
  {
   "cell_type": "code",
   "execution_count": null,
   "metadata": {},
   "outputs": [],
   "source": [
    "tt.cancel()"
   ]
  },
  {
   "cell_type": "code",
   "execution_count": null,
   "metadata": {},
   "outputs": [],
   "source": [
    "robot.stop()"
   ]
  },
  {
   "cell_type": "code",
   "execution_count": null,
   "metadata": {},
   "outputs": [],
   "source": []
  }
 ],
 "metadata": {
  "kernelspec": {
   "display_name": "Python 3",
   "language": "python",
   "name": "python3"
  },
  "language_info": {
   "codemirror_mode": {
    "name": "ipython",
    "version": 3
   },
   "file_extension": ".py",
   "mimetype": "text/x-python",
   "name": "python",
   "nbconvert_exporter": "python",
   "pygments_lexer": "ipython3",
   "version": "3.6.9"
  }
 },
 "nbformat": 4,
 "nbformat_minor": 4
}
