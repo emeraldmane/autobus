{
 "cells": [
  {
   "cell_type": "markdown",
   "metadata": {},
   "source": [
    "# Rail Following - Live demo"
   ]
  },
  {
   "cell_type": "markdown",
   "metadata": {},
   "source": [
    "### Load Trained Model"
   ]
  },
  {
   "cell_type": "markdown",
   "metadata": {},
   "source": [
    "### Creating the Pre-Processing Function"
   ]
  },
  {
   "cell_type": "code",
   "execution_count": 1,
   "metadata": {},
   "outputs": [
    {
     "name": "stdout",
     "output_type": "stream",
     "text": [
      "ok\n"
     ]
    }
   ],
   "source": [
    "import torchvision\n",
    "import torch\n",
    "\n",
    "model = torchvision.models.resnet18(pretrained=False)\n",
    "model.fc = torch.nn.Linear(512, 2)\n",
    "model.load_state_dict(torch.load('best_steering_model_xy.pth'))\n",
    "device = torch.device('cuda')\n",
    "model = model.to(device)\n",
    "model = model.eval().half()\n",
    "\n",
    "print('ok')"
   ]
  },
  {
   "cell_type": "code",
   "execution_count": 2,
   "metadata": {},
   "outputs": [
    {
     "name": "stdout",
     "output_type": "stream",
     "text": [
      "ok\n"
     ]
    }
   ],
   "source": [
    "import torchvision.transforms as transforms\n",
    "import torch.nn.functional as F\n",
    "import cv2\n",
    "import PIL.Image\n",
    "import numpy as np\n",
    "import time\n",
    "\n",
    "mean = torch.Tensor([0.485, 0.456, 0.406]).cuda().half()\n",
    "std = torch.Tensor([0.229, 0.224, 0.225]).cuda().half()\n",
    "\n",
    "def preprocess(image):\n",
    "    image = PIL.Image.fromarray(image)\n",
    "    image = transforms.functional.to_tensor(image).to(device).half()\n",
    "    image.sub_(mean[:, None, None]).div_(std[:, None, None])\n",
    "    return image[None, ...]\n",
    "\n",
    "from jetbot import Heartbeat\n",
    "def handle_heartbeat_status(change):\n",
    "    if change['new'] == Heartbeat.Status.dead:\n",
    "        print('heartbeat connection lost')\n",
    "        try: stop()\n",
    "        except: pass\n",
    "\n",
    "heartbeat = Heartbeat(period=5)\n",
    "heartbeat.observe(handle_heartbeat_status, names='status') # attach the callback function to heartbeat status\n",
    "\n",
    "print('ok')"
   ]
  },
  {
   "cell_type": "markdown",
   "metadata": {},
   "source": [
    "### Create a function that will get called whenever the camera's value changes. This function will do the following steps\n",
    "\n",
    "1. Pre-process the camera image\n",
    "2. Execute the neural network\n",
    "3. Compute the approximate steering value\n",
    "4. Control the motors using proportional / derivative control (PD)"
   ]
  },
  {
   "cell_type": "code",
   "execution_count": 49,
   "metadata": {},
   "outputs": [
    {
     "name": "stdout",
     "output_type": "stream",
     "text": [
      "tt\n",
      "ok\n"
     ]
    }
   ],
   "source": [
    "import threading\n",
    "tt = threading.Timer(1.0, print('tt'))\n",
    "def run():\n",
    "    global tt\n",
    "    tt = threading.Timer(1.0, run)\n",
    "    tt.start()\n",
    "    execute({'new': camera.value})\n",
    "    \n",
    "#def run():\n",
    "#    execute({'new': camera.value})\n",
    "#    #camera.observe(execute, names='value')  \n",
    "\n",
    "def stop():\n",
    "    camera.unobserve_all()\n",
    "    time.sleep(0.1)  # add a small sleep to make sure frames have finished processing\n",
    "    tt.cancel()\n",
    "    robot.stop()\n",
    "    \n",
    "angle = 0.0\n",
    "angle_last = 0.0\n",
    "    \n",
    "def execute(change):\n",
    "    global angle, angle_last\n",
    "    \n",
    "    robot.stop()\n",
    "    time.sleep(1) #stop to get clear image\n",
    "    image = change['new']\n",
    "    xy = model(preprocess(image)).detach().float().cpu().numpy().flatten()\n",
    "    x = xy[0]\n",
    "    y = (0.5 - xy[1]) / 2.0\n",
    "\n",
    "    x_slider.value = x\n",
    "    y_slider.value = y\n",
    "\n",
    "    speed_slider.value = speed_gain_slider.value\n",
    "\n",
    "    angle = np.arctan2(x, y)\n",
    "    pid = angle * steering_gain_slider.value + (angle - angle_last) * steering_dgain_slider.value\n",
    "    angle_last = angle\n",
    "\n",
    "    steering_slider.value = pid + steering_bias_slider.value\n",
    "   \n",
    "    #robot.left_motor.value = max(min(speed_slider.value + steering_slider.value, 1.0), 0.0)\n",
    "    #robot.right_motor.value = max(min(speed_slider.value - steering_slider.value, 1.0), 0.0)\n",
    "    left_motor = max(min(speed_slider.value + steering_slider.value, 1.0), 0.0)\n",
    "    right_motor = max(min(speed_slider.value - steering_slider.value, 1.0), 0.0)\n",
    "    left_slider.value = left_motor\n",
    "    right_slider.value = right_motor\n",
    "    \n",
    "    #modify outputs to motors from original\n",
    "    #run at fixed speeds\n",
    "    turn_thres = 0.3\n",
    "    if steering_slider.value > turn_thres:\n",
    "        #turn right\n",
    "        status.value = \"turn right\"\n",
    "        robot.left_motor.value = 0.4\n",
    "        robot.right_motor.value = -0.4\n",
    "        time.sleep(0.001)\n",
    "        robot.left_motor.value = 0.3\n",
    "        robot.right_motor.value = -0.3\n",
    "        time.sleep(0.001)\n",
    "        robot.stop()\n",
    "        \n",
    "    elif steering_slider.value < -turn_thres:\n",
    "        status.value = \"turn left\"\n",
    "        #turn left\n",
    "        robot.left_motor.value = -0.4\n",
    "        robot.right_motor.value = 0.4\n",
    "        time.sleep(0.001)\n",
    "        robot.left_motor.value = -0.3\n",
    "        robot.right_motor.value = 0.3\n",
    "        time.sleep(0.001)\n",
    "        robot.stop()\n",
    "        \n",
    "    else:\n",
    "        #go straight\n",
    "        status.value = \"go straight\"\n",
    "        robot.left_motor.value = 0.4\n",
    "        robot.right_motor.value = 0.4\n",
    "        time.sleep(0.001)  \n",
    "        robot.left_motor.value = 0.26\n",
    "        robot.right_motor.value = 0.25\n",
    "        time.sleep(0.4)  \n",
    "        robot.stop()\n",
    "        \n",
    "    left_adjusted.value = robot.left_motor.value\n",
    "    right_adjusted.value = robot.right_motor.value\n",
    "\n",
    "print('ok')"
   ]
  },
  {
   "cell_type": "markdown",
   "metadata": {},
   "source": [
    "### Display Camera"
   ]
  },
  {
   "cell_type": "markdown",
   "metadata": {},
   "source": [
    "### Create our robot instance which we'll need to drive the motors."
   ]
  },
  {
   "cell_type": "markdown",
   "metadata": {},
   "source": [
    "### Define sliders to control JetBot"
   ]
  },
  {
   "cell_type": "markdown",
   "metadata": {},
   "source": [
    "### Display some sliders that will let us see what JetBot is thinking"
   ]
  },
  {
   "cell_type": "code",
   "execution_count": 50,
   "metadata": {},
   "outputs": [
    {
     "data": {
      "application/vnd.jupyter.widget-view+json": {
       "model_id": "e807b566f2c441179167e9793d4680f0",
       "version_major": 2,
       "version_minor": 0
      },
      "text/plain": [
       "HBox(children=(Image(value=b'\\xff\\xd8\\xff\\xe0\\x00\\x10JFIF\\x00\\x01\\x01\\x00\\x00\\x01\\x00\\x01\\x00\\x00\\xff\\xdb\\x00C…"
      ]
     },
     "metadata": {},
     "output_type": "display_data"
    },
    {
     "data": {
      "application/vnd.jupyter.widget-view+json": {
       "model_id": "250fa3dda1ff4353be46e83e12c30078",
       "version_major": 2,
       "version_minor": 0
      },
      "text/plain": [
       "HBox(children=(FloatSlider(value=0.0, description='y', max=1.0, orientation='vertical'), FloatSlider(value=0.0…"
      ]
     },
     "metadata": {},
     "output_type": "display_data"
    },
    {
     "data": {
      "application/vnd.jupyter.widget-view+json": {
       "model_id": "3bc821776208451b8c0b79fb8e4c5fc0",
       "version_major": 2,
       "version_minor": 0
      },
      "text/plain": [
       "FloatSlider(value=0.0, description='x', max=1.0, min=-1.0)"
      ]
     },
     "metadata": {},
     "output_type": "display_data"
    },
    {
     "data": {
      "application/vnd.jupyter.widget-view+json": {
       "model_id": "b1440bd3d61c4280a6663e7c40678842",
       "version_major": 2,
       "version_minor": 0
      },
      "text/plain": [
       "FloatSlider(value=0.0, description='steering', max=1.0, min=-1.0)"
      ]
     },
     "metadata": {},
     "output_type": "display_data"
    },
    {
     "data": {
      "application/vnd.jupyter.widget-view+json": {
       "model_id": "ac18df65d3014c42ac3b35e8727812a3",
       "version_major": 2,
       "version_minor": 0
      },
      "text/plain": [
       "Textarea(value='status')"
      ]
     },
     "metadata": {},
     "output_type": "display_data"
    }
   ],
   "source": [
    "from IPython.display import display\n",
    "import ipywidgets\n",
    "import traitlets\n",
    "from jetbot import Camera, bgr8_to_jpeg\n",
    "import ipywidgets.widgets as widgets\n",
    "\n",
    "#camera = Camera()\n",
    "camera = Camera.instance(width=224, height=224, fps=10)\n",
    "camera.start()\n",
    "image_widget = ipywidgets.Image()\n",
    "traitlets.dlink((camera, 'value'), (image_widget, 'value'), transform=bgr8_to_jpeg)\n",
    "#display(image_widget)\n",
    "\n",
    "from jetbot import Robot\n",
    "robot = Robot()\n",
    "\n",
    "speed_gain_slider = ipywidgets.FloatSlider(min=0.0, max=0.4, step=0.001, value=0.33, description='speed gain')\n",
    "steering_gain_slider = ipywidgets.FloatSlider(min=0.0, max=0.4, step=0.001, value=0.33, description='steering gain')\n",
    "steering_dgain_slider = ipywidgets.FloatSlider(min=0.0, max=0.4, step=0.001, value=0.33, description='steering kd')\n",
    "steering_bias_slider = ipywidgets.FloatSlider(min=-0.1, max=0.1, step=0.001, value=0.01, description='steering bias')\n",
    "#1. Speed Control (speed_gain_slider): To start your JetBot increase ``speed_gain_slider`` \n",
    "#2. Steering Gain Control (steering_gain_sloder): If you see JetBot is woblling, you need to reduce ``steering_gain_slider`` till it is smooth\n",
    "#3. Steering Bias control (steering_bias_slider): If you see JetBot is biased towards extreme right or extreme left side of the track, you should control this slider till JetBot start following line or track in the center.  This accounts for motor biases as well as camera offsets\n",
    "\n",
    "#display(speed_gain_slider, steering_gain_slider, steering_dgain_slider, steering_bias_slider)\n",
    "\n",
    "button_layout = ipywidgets.Layout(width='128px', height='64px')\n",
    "stop_button = ipywidgets.Button(description='STOP', button_style='danger', layout=button_layout)\n",
    "stop_button.on_click(lambda x: stop())\n",
    "run_button = ipywidgets.Button(description='RUN', button_style='success', layout=button_layout)\n",
    "run_button.on_click(lambda x: run())\n",
    "\n",
    "sliders = widgets.VBox([speed_gain_slider, steering_gain_slider, steering_dgain_slider, steering_bias_slider,run_button,stop_button])\n",
    "display(widgets.HBox([image_widget,sliders]))\n",
    "\n",
    "x_slider = ipywidgets.FloatSlider(min=-1.0, max=1.0, description='x')\n",
    "y_slider = ipywidgets.FloatSlider(min=0, max=1.0, orientation='vertical', description='y')\n",
    "steering_slider = ipywidgets.FloatSlider(min=-1.0, max=1.0, description='steering')\n",
    "speed_slider = ipywidgets.FloatSlider(min=0, max=1.0, orientation='vertical', description='speed')\n",
    "\n",
    "left_slider = ipywidgets.FloatSlider(min=0, max=1.0, orientation='vertical', description='left')\n",
    "left_adjusted = ipywidgets.FloatSlider(min=0, max=1.0, orientation='vertical', description='L adjusted')\n",
    "right_slider = ipywidgets.FloatSlider(min=0, max=1.0, orientation='vertical', description='right')\n",
    "right_adjusted = ipywidgets.FloatSlider(min=0, max=1.0, orientation='vertical', description='R adjusted')\n",
    "\n",
    "#The x and y sliders will display the predicted x, y values.\n",
    "#The steering slider will display our estimated steering value.  Please remember, this value isn't the actual angle of the target, but simply a value that is\n",
    "#nearly proportional.  When the actual angle is ``0``, this will be zero, and it will increase / decrease with the actual angle.  \n",
    "\n",
    "display(ipywidgets.HBox([y_slider,left_slider,right_slider,left_adjusted,right_adjusted]))\n",
    "display(x_slider, steering_slider)\n",
    "\n",
    "status = ipywidgets.Textarea(value = \"status\")\n",
    "display(status)"
   ]
  },
  {
   "cell_type": "markdown",
   "metadata": {},
   "source": [
    "### Stop"
   ]
  },
  {
   "cell_type": "code",
   "execution_count": 5,
   "metadata": {},
   "outputs": [],
   "source": [
    "try: stop()\n",
    "except: pass"
   ]
  },
  {
   "cell_type": "markdown",
   "metadata": {},
   "source": [
    "### Debug"
   ]
  },
  {
   "cell_type": "code",
   "execution_count": 6,
   "metadata": {},
   "outputs": [],
   "source": [
    "#execute({'new': camera.value})\n",
    "#camera.observe(execute, names='value')"
   ]
  }
 ],
 "metadata": {
  "kernelspec": {
   "display_name": "Python 3",
   "language": "python",
   "name": "python3"
  },
  "language_info": {
   "codemirror_mode": {
    "name": "ipython",
    "version": 3
   },
   "file_extension": ".py",
   "mimetype": "text/x-python",
   "name": "python",
   "nbconvert_exporter": "python",
   "pygments_lexer": "ipython3",
   "version": "3.6.9"
  }
 },
 "nbformat": 4,
 "nbformat_minor": 4
}
