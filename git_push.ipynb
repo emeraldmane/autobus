{
 "cells": [
  {
   "cell_type": "code",
   "execution_count": 1,
   "metadata": {},
   "outputs": [
    {
     "name": "stdout",
     "output_type": "stream",
     "text": [
      "On branch master\n",
      "Your branch is up to date with 'origin/master'.\n",
      "\n",
      "Changes not staged for commit:\n",
      "  (use \"git add/rm <file>...\" to update what will be committed)\n",
      "  (use \"git checkout -- <file>...\" to discard changes in working directory)\n",
      "\n",
      "\t\u001b[31mmodified:   rail_following--Loi/data_collection-DGMD.ipynb\u001b[m\n",
      "\t\u001b[31mmodified:   rail_following--Loi/data_collection.ipynb\u001b[m\n",
      "\t\u001b[31mdeleted:    rail_following--Loi/live_demo-DGMD--TileFloor.ipynb\u001b[m\n",
      "\t\u001b[31mmodified:   rail_following--Loi/train_model-DGMD.ipynb\u001b[m\n",
      "\n",
      "Untracked files:\n",
      "  (use \"git add <file>...\" to include in what will be committed)\n",
      "\n",
      "\t\u001b[31mrail_following--Loi/__archives__/\u001b[m\n",
      "\t\u001b[31mrail_following--Loi/live_demo-DGMD--.html\u001b[m\n",
      "\t\u001b[31mrail_following--Loi/live_demo-DGMD--.ipynb\u001b[m\n",
      "\t\u001b[31mrail_following--Loi/live_demo_clean.ipynb\u001b[m\n",
      "\t\u001b[31mrail_following--Loi/road_following_dataset_xy_2020-07-29_18-01-35--BlueTapePoolTblDay.zip\u001b[m\n",
      "\t\u001b[31mrail_following--Loi/road_following_dataset_xy_2020-07-29_19-49-21--BlueTapePoolDusk.zip\u001b[m\n",
      "\t\u001b[31mrail_following--Loi/road_following_dataset_xy_2020-07-29_22-59-30--BlueTapePoolNight.zip\u001b[m\n",
      "\t\u001b[31mrail_following--Loi/smooth_throttle.ipynb\u001b[m\n",
      "\n",
      "no changes added to commit (use \"git add\" and/or \"git commit -a\")\n"
     ]
    }
   ],
   "source": [
    "!git status"
   ]
  },
  {
   "cell_type": "code",
   "execution_count": 2,
   "metadata": {},
   "outputs": [],
   "source": [
    "!git add ."
   ]
  },
  {
   "cell_type": "code",
   "execution_count": 3,
   "metadata": {},
   "outputs": [
    {
     "name": "stdout",
     "output_type": "stream",
     "text": [
      "[master 2388976] rail following UI improve\n",
      " 12 files changed, 15564 insertions(+), 124 deletions(-)\n",
      " create mode 100644 rail_following--Loi/__archives__/live_demo-DGMD--PoolTable.ipynb\n",
      " rename rail_following--Loi/{ => __archives__}/live_demo-DGMD--TileFloor.ipynb (100%)\n",
      " create mode 100644 rail_following--Loi/live_demo-DGMD--.html\n",
      " create mode 100644 rail_following--Loi/live_demo-DGMD--.ipynb\n",
      " create mode 100644 rail_following--Loi/live_demo_clean.ipynb\n",
      " create mode 100644 rail_following--Loi/road_following_dataset_xy_2020-07-29_18-01-35--BlueTapePoolTblDay.zip\n",
      " create mode 100644 rail_following--Loi/road_following_dataset_xy_2020-07-29_19-49-21--BlueTapePoolDusk.zip\n",
      " create mode 100644 rail_following--Loi/road_following_dataset_xy_2020-07-29_22-59-30--BlueTapePoolNight.zip\n",
      " create mode 100644 rail_following--Loi/smooth_throttle.ipynb\n"
     ]
    }
   ],
   "source": [
    "!git commit -m \"rail following UI improve\""
   ]
  },
  {
   "cell_type": "code",
   "execution_count": 4,
   "metadata": {},
   "outputs": [
    {
     "name": "stdout",
     "output_type": "stream",
     "text": [
      "Counting objects: 15, done.\n",
      "Delta compression using up to 4 threads.\n",
      "Compressing objects: 100% (15/15), done.\n",
      "Writing objects: 100% (15/15), 4.54 MiB | 354.00 KiB/s, done.\n",
      "Total 15 (delta 8), reused 0 (delta 0)\n",
      "remote: Resolving deltas: 100% (8/8), completed with 5 local objects.\u001b[K\n",
      "To https://github.com/loibucket/autobus\n",
      "   c594b0c..2388976  master -> master\n"
     ]
    }
   ],
   "source": [
    "!git push origin master"
   ]
  },
  {
   "cell_type": "code",
   "execution_count": null,
   "metadata": {},
   "outputs": [],
   "source": []
  },
  {
   "cell_type": "code",
   "execution_count": null,
   "metadata": {},
   "outputs": [],
   "source": []
  },
  {
   "cell_type": "code",
   "execution_count": null,
   "metadata": {},
   "outputs": [],
   "source": []
  }
 ],
 "metadata": {
  "kernelspec": {
   "display_name": "Python 3",
   "language": "python",
   "name": "python3"
  },
  "language_info": {
   "codemirror_mode": {
    "name": "ipython",
    "version": 3
   },
   "file_extension": ".py",
   "mimetype": "text/x-python",
   "name": "python",
   "nbconvert_exporter": "python",
   "pygments_lexer": "ipython3",
   "version": "3.6.9"
  }
 },
 "nbformat": 4,
 "nbformat_minor": 4
}
