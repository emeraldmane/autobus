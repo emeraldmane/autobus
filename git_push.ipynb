{
 "cells": [
  {
   "cell_type": "code",
   "execution_count": 1,
   "metadata": {},
   "outputs": [
    {
     "name": "stdout",
     "output_type": "stream",
     "text": [
      "On branch master\n",
      "Your branch is up to date with 'origin/master'.\n",
      "\n",
      "Changes not staged for commit:\n",
      "  (use \"git add/rm <file>...\" to update what will be committed)\n",
      "  (use \"git checkout -- <file>...\" to discard changes in working directory)\n",
      "\n",
      "\t\u001b[31mmodified:   git_push.ipynb\u001b[m\n",
      "\t\u001b[31mdeleted:    rail_following--Loi/__archives__/live_demo-DGMD--PoolTable.ipynb\u001b[m\n",
      "\t\u001b[31mmodified:   rail_following--Loi/data_collection-DGMD.ipynb\u001b[m\n",
      "\t\u001b[31mdeleted:    rail_following--Loi/live_demo-DGMD--.html\u001b[m\n",
      "\t\u001b[31mmodified:   rail_following--Loi/live_demo-DGMD--.ipynb\u001b[m\n",
      "\t\u001b[31mdeleted:    rail_following--Loi/live_demo-DGMD--PoolTable.ipynb\u001b[m\n",
      "\t\u001b[31mdeleted:    rail_following--Loi/road_following_dataset_xy_2020-07-27_19-43-48--BlueTape.zip\u001b[m\n",
      "\t\u001b[31mmodified:   rail_following--Loi/smooth_throttle.ipynb\u001b[m\n",
      "\t\u001b[31mmodified:   rail_following--Loi/train_model-DGMD.ipynb\u001b[m\n",
      "\n",
      "Untracked files:\n",
      "  (use \"git add <file>...\" to include in what will be committed)\n",
      "\n",
      "\t\u001b[31mrail_following--Loi/__archives__/live_demo-DGMD--20200729.html\u001b[m\n",
      "\t\u001b[31mrail_following--Loi/__archives__/live_demo-DGMD--PoolTable1.ipynb\u001b[m\n",
      "\t\u001b[31mrail_following--Loi/__archives__/live_demo-DGMD--PoolTable2.ipynb\u001b[m\n",
      "\t\u001b[31mrail_following--Loi/road_following_dataset_xy_2020-07-27_19-43-48--BlueTapeFloor.zip\u001b[m\n",
      "\t\u001b[31mrail_following--Loi/road_following_dataset_xy_2020-07-30_11-32-11--BlueTapePoolMorning.zip\u001b[m\n",
      "\n",
      "no changes added to commit (use \"git add\" and/or \"git commit -a\")\n"
     ]
    }
   ],
   "source": [
    "!git status"
   ]
  },
  {
   "cell_type": "code",
   "execution_count": 2,
   "metadata": {},
   "outputs": [],
   "source": [
    "!git add ."
   ]
  },
  {
   "cell_type": "code",
   "execution_count": 3,
   "metadata": {},
   "outputs": [
    {
     "name": "stdout",
     "output_type": "stream",
     "text": [
      "[master 4d47f1a] rail following algo improve\n",
      " 10 files changed, 269 insertions(+), 175 deletions(-)\n",
      " rename rail_following--Loi/{live_demo-DGMD--.html => __archives__/live_demo-DGMD--20200729.html} (100%)\n",
      " rename rail_following--Loi/__archives__/{live_demo-DGMD--PoolTable.ipynb => live_demo-DGMD--PoolTable1.ipynb} (100%)\n",
      " rename rail_following--Loi/{live_demo-DGMD--PoolTable.ipynb => __archives__/live_demo-DGMD--PoolTable2.ipynb} (99%)\n",
      " rename rail_following--Loi/{road_following_dataset_xy_2020-07-27_19-43-48--BlueTape.zip => road_following_dataset_xy_2020-07-27_19-43-48--BlueTapeFloor.zip} (100%)\n",
      " create mode 100644 rail_following--Loi/road_following_dataset_xy_2020-07-30_11-32-11--BlueTapePoolMorning.zip\n"
     ]
    }
   ],
   "source": [
    "!git commit -m \"rail following algo improve\""
   ]
  },
  {
   "cell_type": "code",
   "execution_count": 4,
   "metadata": {},
   "outputs": [
    {
     "name": "stdout",
     "output_type": "stream",
     "text": [
      "Counting objects: 11, done.\n",
      "Delta compression using up to 4 threads.\n",
      "Compressing objects: 100% (11/11), done.\n",
      "Writing objects: 100% (11/11), 1.19 MiB | 409.00 KiB/s, done.\n",
      "Total 11 (delta 7), reused 0 (delta 0)\n",
      "remote: Resolving deltas: 100% (7/7), completed with 7 local objects.\u001b[K\n",
      "To https://github.com/loibucket/autobus\n",
      "   2388976..4d47f1a  master -> master\n"
     ]
    }
   ],
   "source": [
    "!git push origin master"
   ]
  }
 ],
 "metadata": {
  "kernelspec": {
   "display_name": "Python 3",
   "language": "python",
   "name": "python3"
  },
  "language_info": {
   "codemirror_mode": {
    "name": "ipython",
    "version": 3
   },
   "file_extension": ".py",
   "mimetype": "text/x-python",
   "name": "python",
   "nbconvert_exporter": "python",
   "pygments_lexer": "ipython3",
   "version": "3.6.9"
  }
 },
 "nbformat": 4,
 "nbformat_minor": 4
}
